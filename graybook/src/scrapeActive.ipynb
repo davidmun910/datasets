{
 "cells": [
  {
   "cell_type": "code",
   "execution_count": 1,
   "metadata": {},
   "outputs": [],
   "source": [
    "import pandas as pd"
   ]
  },
  {
   "cell_type": "code",
   "execution_count": 42,
   "metadata": {},
   "outputs": [],
   "source": [
    "graybook = pd.read_html(\"https://www.trustees.uillinois.edu/trustees/resources/21-22-Graybook/TOC.html\")"
   ]
  },
  {
   "cell_type": "code",
   "execution_count": 56,
   "metadata": {},
   "outputs": [],
   "source": [
    "urlList = []\n",
    "for collegeArray in graybook[0].values:\n",
    "  for college in collegeArray:\n",
    "    if type(college) == type(\"string\"):\n",
    "      collegeCode, collegeName = college.split(\" - \")\n",
    "      urlList.append(f\"https://www.trustees.uillinois.edu/trustees/resources/21-22-Graybook/{collegeCode}.html\")    "
   ]
  },
  {
   "cell_type": "code",
   "execution_count": 2,
   "metadata": {},
   "outputs": [],
   "source": []
  },
  {
   "cell_type": "code",
   "execution_count": 57,
   "metadata": {},
   "outputs": [],
   "source": [
    "dept_code = None\n",
    "dept_name = None\n",
    "def f(row):\n",
    "  global dept_code\n",
    "  global dept_name\n",
    "\n",
    "  if row[\"Job Title\"] == row[\"Employee Name\"]:\n",
    "    dept_code, dept_name = row[\"Job Title\"].split(\" - \")\n",
    "    row[\"Department Code\"] = None\n",
    "    row[\"Department Name\"] = None\n",
    "    return row\n",
    "  else:\n",
    "    row[\"Department Code\"] = dept_code\n",
    "    row[\"Department Name\"] = dept_name\n",
    "    return row"
   ]
  },
  {
   "cell_type": "code",
   "execution_count": 59,
   "metadata": {},
   "outputs": [
    {
     "name": "stdout",
     "output_type": "stream",
     "text": [
      "KL - Agr, Consumer, & Env Sciences\n",
      "KY - Applied Health Sciences\n",
      "LD - Armed Forces\n",
      "NQ - Auxiliary Units\n",
      "NG - Campus General Use\n",
      "LT - Carle Illinois Medicine\n",
      "LN - Center Innov in Teach Learn\n",
      "NA - Chancellor\n",
      "KT - College of Media\n",
      "NU - Div Intercollegiate Athletics\n",
      "KW - Division of General Studies\n",
      "KN - Education\n",
      "MY - Energy Services\n",
      "NN - Facilities\n",
      "KR - Fine & Applied Arts\n",
      "KM - Gies College of Business\n",
      "KS - Graduate College\n",
      "KP - Grainger Engineering\n",
      "LQ - Illinois International\n",
      "KU - Law\n",
      "KV - Liberal Arts & Sciences\n",
      "LB - Medicine at UIUC\n",
      "NP - OVCRI Institutes\n",
      "NS - Ofc VC Inst Advancement\n",
      "NB - Provost & VC Acad Affairs\n",
      "LF - Public Safety\n",
      "LP - School of Information Sciences\n",
      "LG - School of Labor & Empl. Rel.\n",
      "LL - School of Social Work\n",
      "NT - Technology Services\n",
      "LR - University Library\n",
      "NJ - VC Student Affairs\n",
      "NE - VC for Research and Innovation\n",
      "LC - Veterinary Medicine\n",
      "NV - Vice Chancellor for Diversity\n"
     ]
    }
   ],
   "source": [
    "from time import sleep\n",
    "\n",
    "\n",
    "dfs = []\n",
    "\n",
    "for url in urlList:\n",
    "  x = pd.read_html(url)\n",
    "  college_df = x[0]\n",
    "  college = college_df.iloc[0, 0]\n",
    "  print(college)\n",
    "  college.split(\" - \")\n",
    "  college_code, college_name = college.split(\" - \")\n",
    "\n",
    "  college_df = college_df.drop(index=[0])\n",
    "  college_df[\"College Code\"] = college_code\n",
    "  college_df[\"College Name\"] = college_name\n",
    "\n",
    "  college_df = college_df.apply(f, axis=1)\n",
    "  college_df = college_df.dropna(subset=[\"Department Code\"])\n",
    "  dfs.append(college_df)\n",
    "  sleep(5)"
   ]
  },
  {
   "cell_type": "code",
   "execution_count": 62,
   "metadata": {},
   "outputs": [],
   "source": [
    "df = pd.concat(dfs)\n",
    "df.to_csv(\"graybook-sept2021.csv\", index=False)"
   ]
  }
 ],
 "metadata": {
  "kernelspec": {
   "display_name": "Python 3.10.6 64-bit",
   "language": "python",
   "name": "python3"
  },
  "language_info": {
   "codemirror_mode": {
    "name": "ipython",
    "version": 3
   },
   "file_extension": ".py",
   "mimetype": "text/x-python",
   "name": "python",
   "nbconvert_exporter": "python",
   "pygments_lexer": "ipython3",
   "version": "3.10.6"
  },
  "orig_nbformat": 4,
  "vscode": {
   "interpreter": {
    "hash": "369f2c481f4da34e4445cda3fffd2e751bd1c4d706f27375911949ba6bb62e1c"
   }
  }
 },
 "nbformat": 4,
 "nbformat_minor": 2
}
